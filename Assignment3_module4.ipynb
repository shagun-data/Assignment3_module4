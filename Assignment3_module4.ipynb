{
  "nbformat": 4,
  "nbformat_minor": 0,
  "metadata": {
    "colab": {
      "provenance": []
    },
    "kernelspec": {
      "name": "python3",
      "display_name": "Python 3"
    },
    "language_info": {
      "name": "python"
    }
  },
  "cells": [
    {
      "cell_type": "markdown",
      "source": [
        "**Ques1:  What is the difference between a function and a method in Python?**\n",
        "-"
      ],
      "metadata": {
        "id": "KcCL8z_klyvx"
      }
    },
    {
      "cell_type": "code",
      "source": [
        "#Ques1: What is the difference between a function and a method in Python?\n",
        "# Ans1: Function (like a free-standing ATM):-\n",
        "#       A function is something you can call anytime, anywhere, as long as you know its name. It's independent and doesn't belong to anything specific.\n",
        "#       Example: You walk to a free-standing ATM on the street and withdraw money. It works no matter who you are, as long as you have your card.\n",
        "# In Python:\n",
        "def greet(name):\n",
        "    return f\"Hello, {name}!\"\n",
        "print(greet(\"Shagun\"))  # You can call this function anywhere.\n",
        "#         Method (like an ATM inside a private bank)\n",
        "#         A method is like an ATM inside a specific bank. To use it, you must first be a member of the bank (i.e., you must belong to that bank's system). Similarly, a method is tied to an object and can only be used when you have that object.\n",
        "#         Example: If you're inside your bank's building, you can use the ATM there, but it’s connected to your bank account. You can’t use it if you’re not a member.\n",
        "# In Python:\n",
        "class Person:\n",
        "    def greet(self):\n",
        "        return \"Hello!\"\n",
        "shagun = Person()  # Create an object\n",
        "print(shagun.greet())  # Call the method tied to this object\n",
        "\n",
        "# Key Difference:\n",
        "# A function is free and independent (like an ATM you can use anywhere).\n",
        "# A method is tied to an object or class (like an ATM inside a bank, for members only)."
      ],
      "metadata": {
        "colab": {
          "base_uri": "https://localhost:8080/"
        },
        "id": "wVEpgRHxlvw_",
        "outputId": "f54fab8d-1162-4154-af27-d5f78a835116"
      },
      "execution_count": 1,
      "outputs": [
        {
          "output_type": "stream",
          "name": "stdout",
          "text": [
            "Hello, Shagun!\n",
            "Hello!\n"
          ]
        }
      ]
    },
    {
      "cell_type": "code",
      "source": [
        "#Ques2: Explain the concept of function arguments and parameters in Python.\n",
        "# Ans2: Parameters (the \"gift wishlist\"):-\n",
        "#       A parameter is like the wishlist the party host writes in advance. It's a placeholder that says what kind of gifts they expect but doesn’t contain the actual gifts yet.\n",
        "#       Defined when the function is created.\n",
        "# Example:\n",
        "def greet(name):  # 'name' is the parameter\n",
        "    print(f\"Hello, {name}!\")\n",
        "# Here, name is the placeholder (wishlist) for the actual value that will be passed later.\n",
        "\n",
        "        # Arguments (the \"actual gifts\")\n",
        "        # An argument is the actual gift you bring to the party. It’s the real value you pass to the function when you call it.\n",
        "        # Provided when the function is called.\n",
        "# Example:\n",
        "greet(\"Shagun\")  # \"Shagun\" is the argument\n",
        "# Here, the argument \"Shagun\" is the actual value sent to the parameter name.\n",
        "\n",
        "# Real-Life Analogy:\n",
        "# Imagine your friend invites you to a birthday party and says, \"Bring me a book I’ll love\" (the parameter).\n",
        "# When you actually show up, you give them the book \"Harry Potter\" (the argument).\n",
        "\n",
        "# *Types of Function Arguments in Python*:\n",
        "# Positional Arguments: Gifts handed in order.\n",
        "def add(a, b):\n",
        "    return a + b\n",
        "print(add(3, 5))  # Positional arguments: 3 is 'a', 5 is 'b'\n",
        "\n",
        "# Keyword Arguments: Specifying the gift by name.\n",
        "def introduce(name, age):\n",
        "    print(f\"My name is {name}, and I am {age} years old.\")\n",
        "introduce(name=\"Shagun\", age=21)  # Using keywords to pass arguments\n",
        "\n",
        "# Default Arguments: Gifts the host doesn’t ask for but gets by default.\n",
        "def greet(name=\"Guest\"):\n",
        "    print(f\"Hello, {name}!\")\n",
        "greet()  # Outputs: Hello, Guest!\n",
        "greet(\"Shagun\")  # Outputs: Hello, Shagun!\n",
        "\n",
        "# Variable-Length Arguments: When the host is okay with as many gifts as you want to bring.\n",
        "# *args: For multiple positional arguments.\n",
        "def sum_all(*numbers):\n",
        "    return sum(numbers)\n",
        "print(sum_all(1, 2, 3, 4))  # Outputs: 10\n",
        "# **kwargs: For multiple keyword arguments.\n",
        "def display_info(**details):\n",
        "    for key, value in details.items():\n",
        "        print(f\"{key}: {value}\")\n",
        "display_info(name=\"Shagun\", age=21, city=\"Delhi\")\n",
        "\n",
        "# Summary:\n",
        "# Parameters are placeholders for inputs when defining a function (like a wishlist).\n",
        "# Arguments are the actual values provided when calling the function (like the real gifts)."
      ],
      "metadata": {
        "id": "9RcsZQPPnXub"
      },
      "execution_count": null,
      "outputs": []
    },
    {
      "cell_type": "code",
      "source": [
        "#Ques3: What are the different ways to define and call a function in Python?\n",
        "# Ans3: In Python, you can define and call functions in several ways depending on how you structure your program. Here's an overview with examples and simple analogies:\n",
        "#         1. Regular Function\n",
        "#         Definition: You define a function with the def keyword, followed by a name, parameters (if any), and a body of code.\n",
        "\n",
        "#         Call: Just call the function by its name and provide arguments (if needed).\n",
        "# Example:\n",
        "# Think of it like ringing a doorbell to call someone.\n",
        "def greet(name):\n",
        "    print(f\"Hello, {name}!\")\n",
        "greet(\"Shagun\")  # Calling the function\n",
        "\n",
        "#           2. Function with Default Arguments\n",
        "#           Definition: A function can have default parameter values, which are used if no argument is provided during the call.\n",
        "\n",
        "#           Call: Call it with or without passing arguments.\n",
        "\n",
        "# Example:\n",
        "# Like asking, “Do you want sugar in your tea?” If you don’t specify, they assume you do.\n",
        "def greet(name=\"Guest\"):\n",
        "    print(f\"Hello, {name}!\")\n",
        "\n",
        "greet()           # Outputs: Hello, Guest!\n",
        "greet(\"Shagun\")   # Outputs: Hello, Shagun!\n",
        "\n",
        "#            3. Function with Variable-Length Arguments\n",
        "#            Definition: Use *args for variable positional arguments and **kwargs for variable keyword arguments.\n",
        "\n",
        "#            Call: Pass as many arguments as needed.\n",
        "\n",
        "# Example:\n",
        "# Imagine hosting a potluck where everyone brings their favorite dish, but you don’t know how many will show up.\n",
        "# Positional variable-length arguments\n",
        "def print_friends(*friends):\n",
        "    for friend in friends:\n",
        "        print(friend)\n",
        "\n",
        "print_friends(\"Shagun\", \"Arjun\", \"Neha\")  # You can pass any number of arguments\n",
        "\n",
        "# Keyword variable-length arguments\n",
        "def display_info(**details):\n",
        "    for key, value in details.items():\n",
        "        print(f\"{key}: {value}\")\n",
        "\n",
        "display_info(name=\"Shagun\", age=21, city=\"Delhi\")\n",
        "\n",
        "# 4. Lambda Function (Anonymous Function)\n",
        "# Definition: A compact, one-line function with no def keyword. It’s often used for short operations.\n",
        "\n",
        "# Call: Assign it to a variable or use it directly.\n",
        "\n",
        "# Example:\n",
        "# Think of it as a vending machine where you input your choice and get an instant result.\n",
        "\n",
        "# Assign to a variable\n",
        "square = lambda x: x ** 2\n",
        "print(square(5))  # Outputs: 25\n",
        "\n",
        "# Use directly\n",
        "print((lambda x, y: x + y)(3, 4))  # Outputs: 7\n",
        "\n",
        "# 5. Recursive Function\n",
        "# Definition: A function that calls itself to solve a smaller sub-problem.\n",
        "\n",
        "# Call: Provide the initial argument(s) when calling it.\n",
        "\n",
        "# Example:\n",
        "# Like breaking a big chocolate bar into smaller pieces repeatedly.\n",
        "def factorial(n):\n",
        "    if n == 1:\n",
        "        return 1\n",
        "    else:\n",
        "        return n * factorial(n - 1)\n",
        "\n",
        "print(factorial(5))  # Outputs: 120\n",
        "\n",
        "# 6. Method Inside a Class\n",
        "# Definition: Functions defined within a class are called methods and operate on the object of that class.\n",
        "\n",
        "# Call: Call it through an object of the class.\n",
        "\n",
        "# Example:\n",
        "# Like calling customer support (the object) to resolve an issue (the method).\n",
        "class Person:\n",
        "    def greet(self, name):\n",
        "        print(f\"Hello, {name}!\")\n",
        "\n",
        "shagun = Person()\n",
        "shagun.greet(\"Shagun\")  # Outputs: Hello, Shagun!\n",
        "\n",
        "# 7. Nested Function\n",
        "# Definition: You can define a function inside another function to limit its scope.\n",
        "\n",
        "# Call: Call the outer function, which triggers the inner function.\n",
        "\n",
        "# Example:\n",
        "# Think of a security checkpoint where passing through one gate leads to another.\n",
        "def outer():\n",
        "    def inner():\n",
        "        print(\"Inner function called\")\n",
        "    inner()\n",
        "\n",
        "outer()  # Outputs: Inner function called\n",
        "\n",
        "# 8. Higher-Order Function\n",
        "# Definition: A function that takes another function as an argument or returns a function.\n",
        "\n",
        "# Call: Pass a function as an argument or store the returned function.\n",
        "\n",
        "# Example:\n",
        "# Like asking a friend to recommend a restaurant (input: friend, output: their suggestion).\n",
        "def apply_func(func, value):\n",
        "    return func(value)\n",
        "\n",
        "result = apply_func(lambda x: x ** 2, 5)\n",
        "print(result)  # Outputs: 25\n",
        "\n",
        "# Summary:\n",
        "# Here are the common ways to define and call a function in Python:\n",
        "\n",
        "# Regular function (basic structure).\n",
        "# Default arguments (provide defaults).\n",
        "# Variable-length arguments (*args/**kwargs).\n",
        "# Lambda function (one-liner).\n",
        "# Recursive function (function calling itself).\n",
        "# Methods (functions inside classes).\n",
        "# Nested function (function inside another function).\n",
        "# Higher-order function (takes/returns another function)."
      ],
      "metadata": {
        "id": "w2n670Imo96d"
      },
      "execution_count": null,
      "outputs": []
    },
    {
      "cell_type": "code",
      "source": [
        "#Ques4: What is the purpose of the `return` statement in a Python function?\n",
        "# Ans4: The return statement in a Python function is like handing over the results of a task you were asked to do. It allows the function to send data (a value or result) back to the part of the program that called it.\n",
        "#         Key Purposes of the return Statement:\n",
        "#         Send Output Back to the Caller\n",
        "#         It provides the result of the function so it can be used elsewhere in the program.\n",
        "\n",
        "# Example:\n",
        "# Think of a chef in a restaurant. When you place an order (call the function),\n",
        "# the chef prepares the dish (performs the task) and hands it back to you (returns the result).\n",
        "def add(a, b):\n",
        "    return a + b\n",
        "\n",
        "result = add(5, 3)  # The 'return' sends 8 back\n",
        "print(result)  # Outputs: 8\n",
        "\n",
        "# Stop Function Execution\n",
        "# The return statement also ends the function's execution immediately. Anything after return will not run.\n",
        "\n",
        "# Example:\n",
        "# Imagine you're answering a math question, and as soon as you find the answer, you stop working on it.\n",
        "def check_even(num):\n",
        "    if num % 2 == 0:\n",
        "        return True  # Stops here if the condition is True\n",
        "    return False\n",
        "\n",
        "print(check_even(4))  # Outputs: True\n",
        "print(check_even(5))  # Outputs: False\n",
        "\n",
        "# Return Multiple Values\n",
        "# A function can return more than one value by using a tuple, which makes it easy to send back multiple results.\n",
        "\n",
        "# Example:\n",
        "# Like a bank teller giving you both cash and a receipt at the same time.\n",
        "def calculate(a, b):\n",
        "    return a + b, a - b  # Returns a tuple\n",
        "\n",
        "sum_result, diff_result = calculate(7, 3)\n",
        "print(sum_result)  # Outputs: 10\n",
        "print(diff_result)  # Outputs: 4\n",
        "\n",
        "# Return Nothing (None)\n",
        "# If there’s no return statement, or the function is called without it, Python returns None by default. This means the function performs an action but doesn’t give back any result.\n",
        "\n",
        "# Example:\n",
        "# Like asking someone to clean a table—they do the job but don’t hand you anything.\n",
        "def greet(name):\n",
        "    print(f\"Hello, {name}!\")  # No 'return' here\n",
        "\n",
        "result = greet(\"Shagun\")\n",
        "print(result)  # Outputs: None\n",
        "\n",
        "# Analogy Summary:\n",
        "# With return: Like a chef who gives you the dish you ordered.\n",
        "# Without return: Like a chef who cooks but doesn’t serve you the food—they just perform the task.\n",
        "# Why Use return?\n",
        "# To make the function reusable (you can store or reuse the output elsewhere).\n",
        "# To perform calculations, transformations, or operations and pass back results.\n",
        "# To send multiple outputs or terminate a function when a condition is met."
      ],
      "metadata": {
        "id": "2XeVCEpLqNG-"
      },
      "execution_count": null,
      "outputs": []
    },
    {
      "cell_type": "code",
      "source": [
        "#Ques5: What are iterators in Python and how do they differ from iterables?\n",
        "# Ans5: What Are Iterables and Iterators?\n",
        "        # -> Iterable: Anything you can loop over (e.g., with a for loop) is called an iterable. Examples include lists, strings, tuples, dictionaries, and sets.\n",
        "        #    Analogy: Think of an iterable as a music playlist. The playlist contains all the songs (data), and you can move through them one by one.\n",
        "\n",
        "          # -> Iterator: An iterator is an object that keeps track of where it is in the iterable and lets you access the items one at a time. It’s like a \"one-way ticket\" through the data—you can’t go backward.\n",
        "          #    Analogy: The remote control for the playlist. It allows you to play one song at a time (move through the iterable).\n",
        "\n",
        ""
      ],
      "metadata": {
        "id": "B2rBwWkgq_7Z"
      },
      "execution_count": null,
      "outputs": []
    },
    {
      "cell_type": "code",
      "source": [
        "#Ques6: Explain the concept of generators in Python and how they are defined.\n",
        "# Ans6: What Are Generators in Python?\n",
        "# Generators are a special type of function in Python that produce a sequence of values lazily, meaning they generate values one at a time as they are needed, instead of creating and storing them in memory all at once.\n",
        "\n",
        "# Generators are memory-efficient and are especially useful when working with large datasets or infinite sequences.\n",
        "\n",
        "# Key Features of Generators\n",
        "# Use yield Instead of return\n",
        "\n",
        "# Generators use the yield keyword to produce a value, but unlike return, it doesn’t stop the function. Instead, it \"pauses\" the function and remembers where it left off.\n",
        "# Iterate Lazily\n",
        "\n",
        "# Generators create values one at a time and give them to the caller when needed, instead of generating all values at once.\n",
        "# Memory Efficient\n",
        "\n",
        "# Unlike lists or other iterables, generators don’t store all the values in memory; they compute each value on the fly.\n",
        "# How to Define a Generator\n",
        "# Generators are defined just like regular functions, but instead of using return to produce a value, they use yield.\n",
        "\n",
        "# Example: A Simple Generator\n",
        "def my_generator():\n",
        "    yield 1\n",
        "    yield 2\n",
        "    yield 3\n",
        "\n",
        "# Using the generator\n",
        "gen = my_generator()\n",
        "\n",
        "print(next(gen))  # Outputs: 1\n",
        "print(next(gen))  # Outputs: 2\n",
        "print(next(gen))  # Outputs: 3\n",
        "# print(next(gen))  # Raises StopIteration because there are no more values"
      ],
      "metadata": {
        "colab": {
          "base_uri": "https://localhost:8080/"
        },
        "id": "hV2Ez8QLr7TS",
        "outputId": "ed80e018-2de3-45fd-fd71-2aa6d7079039"
      },
      "execution_count": 2,
      "outputs": [
        {
          "output_type": "stream",
          "name": "stdout",
          "text": [
            "1\n",
            "2\n",
            "3\n"
          ]
        }
      ]
    },
    {
      "cell_type": "code",
      "source": [
        "#Ques7: What are the advantages of using generators over regular functions?\n",
        "# Ans7: Generators have several advantages over regular functions, especially when dealing with large datasets or situations requiring memory efficiency and on-demand value generation. Let’s break this down in simple terms and with examples.\n",
        "# Advantages of Generators Over Regular Functions:-\n",
        "\n",
        "# 1. Memory Efficiency\n",
        "# Generators do not store all values in memory; they produce them one at a time using the yield keyword.\n",
        "# This is especially useful for working with large datasets or infinite sequences.\n",
        "# Regular Functions, in contrast, often create and store all results in memory, which can lead to high memory usage.\n",
        "\n",
        "# 2. Lazy Evaluation (On-Demand Execution)\n",
        "# Generators generate values only when needed. This is called \"lazy evaluation,\" which means computation is\n",
        "# delayed until the value is required.\n",
        "# Regular Functions compute and return all values immediately, even if you don’t need all of them.\n",
        "\n",
        "# 3. Better Performance for Large or Infinite Sequences\n",
        "# Generators are ideal for infinite or very large sequences because they compute values as you go.\n",
        "# Regular Functions are not suitable for infinite sequences, as they would attempt to create and store all values,\n",
        "# causing a memory overflow.\n",
        "\n",
        "# 4. Improved Readability and Simplicity\n",
        "# Generators often provide a cleaner and more readable way to implement sequences or iterative processes\n",
        "# compared to regular functions.\n",
        "# Instead of building an entire list, you can use yield to express sequences naturally.\n",
        "\n",
        "# 5. Efficient Error Handling\n",
        "# Generators pause execution at yield points, making it easier to handle errors gracefully without losing progress."
      ],
      "metadata": {
        "id": "MRlj_N-GsYWs"
      },
      "execution_count": null,
      "outputs": []
    },
    {
      "cell_type": "code",
      "source": [
        "#Ques8: What is a lambda function in Python and when is it typically used?\n",
        "# Ans8: A lambda function in Python is a small, anonymous function that is defined without a name. Unlike regular functions created using the def keyword, lambda functions are created using the lambda keyword.\n",
        "# Lambda functions can have any number of arguments, but they can only contain a single expression.\n",
        "# The result of that expression is automatically returned.\n",
        "# They are typically used for short, simple tasks where defining a full function is unnecessary.\n",
        "\n",
        "# Syntax of a Lambda Function:-\n",
        "lambda arguments: expression\n",
        "\n",
        "# arguments: The inputs to the function (just like parameters in a regular function).\n",
        "# expression: The computation or operation performed on the arguments. The result of this expression is the return value."
      ],
      "metadata": {
        "id": "6oJDNwVxtHMm"
      },
      "execution_count": null,
      "outputs": []
    },
    {
      "cell_type": "code",
      "source": [
        "#Ques9: Explain the purpose and usage of the `map()` function in Python.\n",
        "# Ans9: The map() function in Python is used to apply a given function to every item in an iterable (like a list, tuple, or set) and returns a map object (an iterator) containing the results.\n",
        "# It’s useful when you want to transform or process elements of an iterable without writing explicit loops.\n",
        "\n",
        "# Syntax:-\n",
        "# map(function, iterable, ...)\n",
        "\n",
        "# function: A function (either built-in, user-defined, or lambda) that is applied to each element of the iterable.\n",
        "# iterable: The sequence (like a list, tuple, etc.) whose items you want to process.\n",
        "# ...: You can pass multiple iterables if the function accepts multiple arguments."
      ],
      "metadata": {
        "id": "woB4NRhbthqR"
      },
      "execution_count": null,
      "outputs": []
    },
    {
      "cell_type": "code",
      "source": [
        "#Ques10: What is the difference between `map()`, `reduce()`, and `filter()` functions in Python?\n",
        "# # Ans10: The map(), reduce(), and filter() functions are part of Python’s functional programming toolkit.\n",
        "#          Each has its own purpose for transforming or processing iterables.\n",
        "#          Here's a breakdown of their differences with examples:\n",
        "# 1. map()\n",
        "# Purpose: Transforms each element of an iterable by applying a specified function to it.\n",
        "# Output: Returns a map object (iterator) containing the transformed items.\n",
        "# Use Case: When you want to perform an operation on all elements in an iterable.\n",
        "\n",
        "# Syntax:-\n",
        "# map(function, iterable, ...)\n",
        "\n",
        "# 2. filter()\n",
        "# Purpose: Filters elements from an iterable based on a condition (a function that returns True or False).\n",
        "# Output: Returns a filter object (iterator) containing only the elements that satisfy the condition.\n",
        "# Use Case: When you want to select specific elements from an iterable based on a condition.\n",
        "\n",
        "# Syntax:\n",
        "# filter(function, iterable)\n",
        "\n",
        "# 3. reduce()\n",
        "# Purpose: Reduces an iterable to a single value by applying a function cumulatively to its elements.\n",
        "# Output: Returns a single value.\n",
        "# Use Case: When you need to compute a single result (like sum, product, etc.) from an iterable.\n",
        "\n",
        "# Syntax:\n",
        "# reduce(function, iterable)\n",
        "# Note: reduce() is part of the functools module in Python 3, so you must import it."
      ],
      "metadata": {
        "id": "zICfxuc9t026"
      },
      "execution_count": null,
      "outputs": []
    },
    {
      "cell_type": "code",
      "source": [
        "# Ques11:\n",
        "# Ans11: Problem: We need to find the sum of the list [47, 11, 42, 13] using the reduce() function in Python.\n",
        "# Step 1: The reduce() Function\n",
        "# The reduce() function takes two arguments:\n",
        "\n",
        "# A function that performs the operation (in this case, adding two numbers).\n",
        "# An iterable (the list we want to reduce).\n",
        "# Here, we’ll use a lambda function that adds two numbers:\n",
        "# reduce(lambda x, y: x + y, [47, 11, 42, 13])\n",
        "\n",
        "# Step 2: Internal Mechanism\n",
        "# The reduce() function applies the given lambda function cumulatively to the items in the list. So, it works like this:\n",
        "\n",
        "# Initial List: [47, 11, 42, 13]\n",
        "# First, the function takes the first two numbers from the list: 47 and 11.\n",
        "\n",
        "# Operation: 47 + 11 = 58\n",
        "# Intermediate result: 58\n",
        "# Remaining list: [42, 13]\n",
        "# Now, it applies the function to the intermediate result (58) and the next element (42).\n",
        "\n",
        "# Operation: 58 + 42 = 100\n",
        "# Intermediate result: 100\n",
        "# Remaining list: [13]\n",
        "# Finally, it applies the function to the intermediate result (100) and the last element (13).\n",
        "\n",
        "# Operation: 100 + 13 = 113\n",
        "# Intermediate result: 113\n",
        "# Remaining list: [] (empty list)\n",
        "# Step 3: Final Result\n",
        "# After going through all the elements in the list, the final result of the sum operation is 113.\n",
        "\n",
        "# Visualizing the Process\n",
        "# plaintext\n",
        "# Copy\n",
        "# Edit\n",
        "# Initial List: [47, 11, 42, 13]\n",
        "\n",
        "# Step 1: 47 + 11 = 58        --> Intermediate result: 58\n",
        "# Step 2: 58 + 42 = 100       --> Intermediate result: 100\n",
        "# Step 3: 100 + 13 = 113      --> Final result: 113\n",
        "# Final Answer:\n",
        "# The sum of the numbers in the list [47, 11, 42, 13] is 113."
      ],
      "metadata": {
        "id": "xOJ3JUgvuhHw"
      },
      "execution_count": null,
      "outputs": []
    },
    {
      "cell_type": "code",
      "source": [
        "#1. Write a Python function that takes a list of numbers as input and returns the sum of all even numbers in the list.\n",
        "def sum_of_even_numbers(numbers):\n",
        "    # Use a list comprehension to filter out even numbers and sum them\n",
        "    return sum(number for number in numbers if number % 2 == 0)\n",
        "\n",
        "# Example usage:\n",
        "numbers = [1, 2, 3, 4, 5, 6]\n",
        "result = sum_of_even_numbers(numbers)\n",
        "print(\"Sum of even numbers:\", result)  # Output: 12 (2 + 4 + 6)"
      ],
      "metadata": {
        "colab": {
          "base_uri": "https://localhost:8080/"
        },
        "id": "6q-3U7NEvA5k",
        "outputId": "14a8c1bc-f3a7-45d4-d825-753634557414"
      },
      "execution_count": 3,
      "outputs": [
        {
          "output_type": "stream",
          "name": "stdout",
          "text": [
            "Sum of even numbers: 12\n"
          ]
        }
      ]
    },
    {
      "cell_type": "code",
      "source": [
        "#2. Create a Python function that accepts a string and returns the reverse of that string\n",
        "def reverse_string(s):\n",
        "    # Return the reverse of the string using slicing\n",
        "    return s[::-1]\n",
        "\n",
        "# Example usage:\n",
        "input_string = \"hello\"\n",
        "result = reverse_string(input_string)\n",
        "print(\"Reversed string:\", result)  # Output: \"olleh\""
      ],
      "metadata": {
        "id": "b9DcQ09mvYN6"
      },
      "execution_count": null,
      "outputs": []
    },
    {
      "cell_type": "code",
      "source": [
        "#3. Implement a Python function that takes a list of integers and returns a new list containing the squares of\n",
        "# each number.\n",
        "def square_numbers(numbers):\n",
        "    # Use list comprehension to square each number in the list\n",
        "    return [number ** 2 for number in numbers]\n",
        "\n",
        "# Example usage:\n",
        "input_list = [1, 2, 3, 4, 5]\n",
        "result = square_numbers(input_list)\n",
        "print(\"Squares of numbers:\", result)  # Output: [1, 4, 9, 16, 25]\n"
      ],
      "metadata": {
        "colab": {
          "base_uri": "https://localhost:8080/"
        },
        "id": "dHTVwc18vlMH",
        "outputId": "7db53aba-ebda-4801-c369-5469deda3f51"
      },
      "execution_count": 5,
      "outputs": [
        {
          "output_type": "stream",
          "name": "stdout",
          "text": [
            "Squares of numbers: [1, 4, 9, 16, 25]\n"
          ]
        }
      ]
    },
    {
      "cell_type": "code",
      "source": [
        "#4. Write a Python function that checks if a given number is prime or not from 1 to 200.\n",
        "def is_prime(n):\n",
        "    # Check if the number is less than 2, as prime numbers are greater than 1\n",
        "    if n < 2:\n",
        "        return False\n",
        "    # Check divisibility from 2 to the square root of n (optimizing the range)\n",
        "    for i in range(2, int(n ** 0.5) + 1):\n",
        "        if n % i == 0:\n",
        "            return False\n",
        "    return True\n",
        "\n",
        "# Example usage:\n",
        "numbers = list(range(1, 201))\n",
        "prime_numbers = [num for num in numbers if is_prime(num)]\n",
        "\n",
        "print(\"Prime numbers from 1 to 200:\", prime_numbers)\n"
      ],
      "metadata": {
        "colab": {
          "base_uri": "https://localhost:8080/"
        },
        "id": "U0-6sURKvxIs",
        "outputId": "83c887a0-d52c-4bde-82d8-2443c762e879"
      },
      "execution_count": 6,
      "outputs": [
        {
          "output_type": "stream",
          "name": "stdout",
          "text": [
            "Prime numbers from 1 to 200: [2, 3, 5, 7, 11, 13, 17, 19, 23, 29, 31, 37, 41, 43, 47, 53, 59, 61, 67, 71, 73, 79, 83, 89, 97, 101, 103, 107, 109, 113, 127, 131, 137, 139, 149, 151, 157, 163, 167, 173, 179, 181, 191, 193, 197, 199]\n"
          ]
        }
      ]
    },
    {
      "cell_type": "code",
      "source": [
        "# 5. Create an iterator class in Python that generates the Fibonacci sequence up to a specified number of\n",
        "# terms.\n",
        "class FibonacciIterator:\n",
        "    def __init__(self, terms):\n",
        "        self.terms = terms  # Number of terms in the Fibonacci sequence\n",
        "        self.a, self.b = 0, 1  # Starting values for Fibonacci sequence\n",
        "        self.count = 0  # Counter to track the number of terms generated\n",
        "\n",
        "    def __iter__(self):\n",
        "        return self  # Return the iterator object itself\n",
        "\n",
        "    def __next__(self):\n",
        "        if self.count < self.terms:\n",
        "            fib_num = self.a\n",
        "            self.a, self.b = self.b, self.a + self.b  # Update to next Fibonacci numbers\n",
        "            self.count += 1\n",
        "            return fib_num\n",
        "        else:\n",
        "            raise StopIteration  # Stop iteration when the specified number of terms is reached\n",
        "\n",
        "# Example usage:\n",
        "fibonacci = FibonacciIterator(10)  # Create an iterator for the first 10 Fibonacci numbers\n",
        "\n",
        "for num in fibonacci:\n",
        "    print(num)\n"
      ],
      "metadata": {
        "colab": {
          "base_uri": "https://localhost:8080/"
        },
        "id": "xgUNR5HgwEB3",
        "outputId": "e3390233-aaa4-4a26-ca5f-a91cb07f0f5d"
      },
      "execution_count": 7,
      "outputs": [
        {
          "output_type": "stream",
          "name": "stdout",
          "text": [
            "0\n",
            "1\n",
            "1\n",
            "2\n",
            "3\n",
            "5\n",
            "8\n",
            "13\n",
            "21\n",
            "34\n"
          ]
        }
      ]
    },
    {
      "cell_type": "code",
      "source": [
        "#6. Write a generator function in Python that yields the powers of 2 up to a given exponent.\n",
        "def powers_of_two(exponent):\n",
        "    for i in range(exponent + 1):\n",
        "        yield 2 ** i  # Yield 2 raised to the power of i\n",
        "\n",
        "# Example usage:\n",
        "for power in powers_of_two(5):\n",
        "    print(power)\n"
      ],
      "metadata": {
        "colab": {
          "base_uri": "https://localhost:8080/"
        },
        "id": "OYAbjpj7wS33",
        "outputId": "17c39d26-c8ee-41a4-cbbe-0d8da884f4b1"
      },
      "execution_count": 9,
      "outputs": [
        {
          "output_type": "stream",
          "name": "stdout",
          "text": [
            "1\n",
            "2\n",
            "4\n",
            "8\n",
            "16\n",
            "32\n"
          ]
        }
      ]
    },
    {
      "cell_type": "code",
      "source": [
        "# 7. Implement a generator function that reads a file line by line and yields each line as a string.\n",
        "def read_file_line_by_line(file_path):\n",
        "    with open(file_path, 'r') as file:\n",
        "        for line in file:\n",
        "            yield line.strip()  # Yield each line after stripping leading/trailing whitespaces\n",
        "\n",
        "# Example usage:\n",
        "file_path = 'example.txt'  # Replace with your file path\n",
        "for line in read_file_line_by_line(file_path):\n",
        "    # print(line)\n"
      ],
      "metadata": {
        "id": "TftDfBaNwa-X"
      },
      "execution_count": 14,
      "outputs": []
    },
    {
      "cell_type": "code",
      "source": [
        "# 8. Use a lambda function in Python to sort a list of tuples based on the second element of each tuple.\n",
        "# List of tuples\n",
        "tuple_list = [(1, 3), (2, 1), (4, 2), (5, 0)]\n",
        "\n",
        "# Sort the list based on the second element of each tuple using lambda\n",
        "sorted_list = sorted(tuple_list, key=lambda x: x[1])\n",
        "\n",
        "# Output the sorted list\n",
        "print(sorted_list)"
      ],
      "metadata": {
        "colab": {
          "base_uri": "https://localhost:8080/"
        },
        "id": "1Y6l4SpOwsie",
        "outputId": "4179323f-57e0-4909-a980-c4181ef5d832"
      },
      "execution_count": 15,
      "outputs": [
        {
          "output_type": "stream",
          "name": "stdout",
          "text": [
            "[(5, 0), (2, 1), (4, 2), (1, 3)]\n"
          ]
        }
      ]
    },
    {
      "cell_type": "code",
      "source": [
        "# 9. Write a Python program that uses `map()` to convert a list of temperatures from Celsius to Fahrenheit.\n",
        "# List of temperatures in Celsius\n",
        "celsius_temps = [0, 10, 20, 30, 40, 50]\n",
        "\n",
        "# Function to convert Celsius to Fahrenheit\n",
        "def celsius_to_fahrenheit(celsius):\n",
        "    return (celsius * 9/5) + 32\n",
        "\n",
        "# Use map() to apply the conversion function to the list\n",
        "fahrenheit_temps = list(map(celsius_to_fahrenheit, celsius_temps))\n",
        "\n",
        "# Output the Fahrenheit temperatures\n",
        "print(fahrenheit_temps)"
      ],
      "metadata": {
        "colab": {
          "base_uri": "https://localhost:8080/"
        },
        "id": "6C8uCO1Rxqjj",
        "outputId": "2eff9c99-8580-4ce0-d4c0-dae71f518c3c"
      },
      "execution_count": 16,
      "outputs": [
        {
          "output_type": "stream",
          "name": "stdout",
          "text": [
            "[32.0, 50.0, 68.0, 86.0, 104.0, 122.0]\n"
          ]
        }
      ]
    },
    {
      "cell_type": "code",
      "source": [
        "# 10. Create a Python program that uses `filter()` to remove all the vowels from a given string.\n",
        "# Function to check if a character is a vowel\n",
        "def is_not_vowel(char):\n",
        "    return char.lower() not in 'aeiou'\n",
        "\n",
        "# Given string\n",
        "input_string = \"I love Python programming\"\n",
        "\n",
        "# Use filter() to remove vowels from the string\n",
        "filtered_string = ''.join(filter(is_not_vowel, input_string))\n",
        "\n",
        "# Output the string without vowels\n",
        "print(filtered_string)"
      ],
      "metadata": {
        "id": "ilSE8mdkxyEk"
      },
      "execution_count": null,
      "outputs": []
    },
    {
      "cell_type": "code",
      "source": [
        "#11) Imagine an accounting routine used in a book shop.\n",
        "# It works on a list with sublists, which look like this:\n",
        "# Write a Python program, which returns a list with 2-tuples. Each tuple consists of the order number and the\n",
        "# product of the price per item and the quantity. The product should be increased by 10,- € if the value of the\n",
        "# order is smaller than 100,00 €.\n",
        "# Write a Python program using lambda and map.\n",
        "\n",
        "# List of book shop orders with sublists\n",
        "orders = [\n",
        "    [34587, 'Learning Python, Mark Lutz', 4, 40.95],\n",
        "    [98762, 'Programming Python, Mark Lutz', 5, 56.8],\n",
        "    [77226, 'Head First Python, Paul Barry', 3, 32.95],\n",
        "    [88112, 'Einführung in Python3, Bernd Klein', 3, 24.99]\n",
        "]\n",
        "\n",
        "# Use map() and lambda to calculate order value and adjust if needed\n",
        "order_totals = list(map(lambda order: (order[0], (order[2] * order[3]) + 10) if (order[2] * order[3]) < 100 else (order[0], order[2] * order[3]), orders))\n",
        "\n",
        "# Output the result\n",
        "print(order_totals)\n"
      ],
      "metadata": {
        "colab": {
          "base_uri": "https://localhost:8080/"
        },
        "id": "NXtxtf7mx7Z_",
        "outputId": "bc67a541-78e6-4447-f49e-53aed8bb9134"
      },
      "execution_count": 17,
      "outputs": [
        {
          "output_type": "stream",
          "name": "stdout",
          "text": [
            "[(34587, 163.8), (98762, 284.0), (77226, 108.85000000000001), (88112, 84.97)]\n"
          ]
        }
      ]
    },
    {
      "cell_type": "code",
      "source": [],
      "metadata": {
        "id": "K6WyrPPozNEN"
      },
      "execution_count": null,
      "outputs": []
    }
  ]
}